{
 "cells": [
  {
   "cell_type": "code",
   "execution_count": 0,
   "metadata": {
    "colab": {
     "base_uri": "https://localhost:8080/",
     "height": 558
    },
    "colab_type": "code",
    "id": "ZH3b6I2oq_6i",
    "outputId": "62c168d0-5752-4bc6-f647-52226fadacf3"
   },
   "outputs": [
    {
     "name": "stdout",
     "output_type": "stream",
     "text": [
      "Collecting cleverhans==2.1.0\n",
      "\u001b[?25l  Downloading https://files.pythonhosted.org/packages/e8/ea/c057263636b14c28923b42ed8ef52c0ba24d38e05fc3720f62df80a2f735/cleverhans-2.1.0.tar.gz (64kB)\n",
      "\r",
      "\u001b[K     |█████                           | 10kB 17.5MB/s eta 0:00:01\r",
      "\u001b[K     |██████████▏                     | 20kB 1.8MB/s eta 0:00:01\r",
      "\u001b[K     |███████████████▏                | 30kB 2.7MB/s eta 0:00:01\r",
      "\u001b[K     |████████████████████▎           | 40kB 3.5MB/s eta 0:00:01\r",
      "\u001b[K     |█████████████████████████▎      | 51kB 2.2MB/s eta 0:00:01\r",
      "\u001b[K     |██████████████████████████████▍ | 61kB 2.6MB/s eta 0:00:01\r",
      "\u001b[K     |████████████████████████████████| 71kB 2.3MB/s \n",
      "\u001b[?25hRequirement already satisfied: nose in /usr/local/lib/python2.7/dist-packages (from cleverhans==2.1.0) (1.3.7)\n",
      "Collecting pycodestyle\n",
      "\u001b[?25l  Downloading https://files.pythonhosted.org/packages/0e/0c/04a353e104d2f324f8ee5f4b32012618c1c86dd79e52a433b64fceed511b/pycodestyle-2.5.0-py2.py3-none-any.whl (51kB)\n",
      "\u001b[K     |████████████████████████████████| 51kB 5.7MB/s \n",
      "\u001b[?25hRequirement already satisfied: scipy in /usr/local/lib/python2.7/dist-packages (from cleverhans==2.1.0) (1.2.2)\n",
      "Requirement already satisfied: matplotlib in /usr/local/lib/python2.7/dist-packages (from cleverhans==2.1.0) (2.2.4)\n",
      "Collecting mnist~=0.2\n",
      "  Downloading https://files.pythonhosted.org/packages/c6/c4/5db3bfe009f8d71f1d532bbadbd0ec203764bba3a469e4703a889db8e5e0/mnist-0.2.2-py2.py3-none-any.whl\n",
      "Requirement already satisfied: numpy in /usr/local/lib/python2.7/dist-packages (from cleverhans==2.1.0) (1.16.4)\n",
      "Requirement already satisfied: cycler>=0.10 in /usr/local/lib/python2.7/dist-packages (from matplotlib->cleverhans==2.1.0) (0.10.0)\n",
      "Requirement already satisfied: backports.functools-lru-cache in /usr/local/lib/python2.7/dist-packages (from matplotlib->cleverhans==2.1.0) (1.5)\n",
      "Requirement already satisfied: subprocess32 in /usr/local/lib/python2.7/dist-packages (from matplotlib->cleverhans==2.1.0) (3.5.4)\n",
      "Requirement already satisfied: kiwisolver>=1.0.1 in /usr/local/lib/python2.7/dist-packages (from matplotlib->cleverhans==2.1.0) (1.1.0)\n",
      "Requirement already satisfied: pytz in /usr/local/lib/python2.7/dist-packages (from matplotlib->cleverhans==2.1.0) (2018.9)\n",
      "Requirement already satisfied: six>=1.10 in /usr/local/lib/python2.7/dist-packages (from matplotlib->cleverhans==2.1.0) (1.12.0)\n",
      "Requirement already satisfied: python-dateutil>=2.1 in /usr/local/lib/python2.7/dist-packages (from matplotlib->cleverhans==2.1.0) (2.5.3)\n",
      "Requirement already satisfied: pyparsing!=2.0.4,!=2.1.2,!=2.1.6,>=2.0.1 in /usr/local/lib/python2.7/dist-packages (from matplotlib->cleverhans==2.1.0) (2.4.0)\n",
      "Requirement already satisfied: mock; python_version == \"2.7\" in /usr/local/lib/python2.7/dist-packages (from mnist~=0.2->cleverhans==2.1.0) (2.0.0)\n",
      "Requirement already satisfied: setuptools in /usr/local/lib/python2.7/dist-packages (from kiwisolver>=1.0.1->matplotlib->cleverhans==2.1.0) (41.6.0)\n",
      "Requirement already satisfied: funcsigs>=1; python_version < \"3.3\" in /usr/local/lib/python2.7/dist-packages (from mock; python_version == \"2.7\"->mnist~=0.2->cleverhans==2.1.0) (1.0.2)\n",
      "Requirement already satisfied: pbr>=0.11 in /usr/local/lib/python2.7/dist-packages (from mock; python_version == \"2.7\"->mnist~=0.2->cleverhans==2.1.0) (5.4.0)\n",
      "Building wheels for collected packages: cleverhans\n",
      "  Building wheel for cleverhans (setup.py) ... \u001b[?25l\u001b[?25hdone\n",
      "  Created wheel for cleverhans: filename=cleverhans-2.1.0-cp27-none-any.whl size=74866 sha256=5e322ba0edf4f90372a04cb0b9c88b42d15bd501dd01ea6a056e3a87586df6a3\n",
      "  Stored in directory: /root/.cache/pip/wheels/5e/d5/ae/5bf57b9265bffd5783c4462a9a7c1c5fd0ebe51db83ff5f586\n",
      "Successfully built cleverhans\n",
      "Installing collected packages: pycodestyle, mnist, cleverhans\n",
      "Successfully installed cleverhans-2.1.0 mnist-0.2.2 pycodestyle-2.5.0\n"
     ]
    }
   ],
   "source": [
    "#Install Cleverhans (version Cleverhans 2.1.0 is most compatable with Python 2.x)\n",
    "!pip install cleverhans==2.1.0"
   ]
  },
  {
   "cell_type": "code",
   "execution_count": 0,
   "metadata": {
    "colab": {},
    "colab_type": "code",
    "id": "mVKiKyxvrDio"
   },
   "outputs": [],
   "source": [
    "#Import necessary packages\n",
    "from keras.datasets import mnist\n",
    "from keras import Sequential\n",
    "from keras.layers import Dense, BatchNormalization\n",
    "from keras import backend\n",
    "import keras\n",
    "import tensorflow as tf\n",
    "import numpy as np\n",
    "import matplotlib.pyplot as plt\n",
    "from sklearn.decomposition import PCA\n",
    "from cleverhans.utils_keras import KerasModelWrapper\n",
    "from cleverhans.attacks import FastGradientMethod, MadryEtAl, DeepFool, CarliniWagnerL2"
   ]
  },
  {
   "cell_type": "markdown",
   "metadata": {
    "colab_type": "text",
    "id": "AR7lUPK3rL3d"
   },
   "source": [
    "#Part 1: Training a target classifier"
   ]
  },
  {
   "cell_type": "code",
   "execution_count": 0,
   "metadata": {
    "colab": {},
    "colab_type": "code",
    "id": "dRvltpU9rMZp"
   },
   "outputs": [],
   "source": [
    "# Load data MNIST data and normalize to [0, 1]\n",
    "\n",
    "(data_train, labels_train), (data_test, labels_test) = mnist.load_data()\n",
    "data_train = data_train/255.0\n",
    "data_test = data_test/255.0\n",
    "\n",
    "#Reshape training and testing data into 784-dimensional vectors \n",
    "\n",
    "data_train = np.array(data_train).reshape(60000,784)\n",
    "data_test = np.array(data_test).reshape(10000,784)\n",
    "\n",
    "#Convert integer labels for training and testing data into one-hot vectors \n",
    "\n",
    "labels_train = keras.utils.np_utils.to_categorical(labels_train, num_classes=10)\n",
    "labels_test = keras.utils.np_utils.to_categorical(labels_test, num_classes=10)\n",
    "\n"
   ]
  },
  {
   "cell_type": "code",
   "execution_count": 0,
   "metadata": {
    "colab": {
     "base_uri": "https://localhost:8080/",
     "height": 1714
    },
    "colab_type": "code",
    "id": "PJe-FD4-5haJ",
    "outputId": "b1c18e17-7a7b-4cb2-d645-66064c747776"
   },
   "outputs": [
    {
     "name": "stdout",
     "output_type": "stream",
     "text": [
      "Train on 60000 samples, validate on 10000 samples\n",
      "Epoch 1/50\n",
      "60000/60000 [==============================] - 9s 156us/step - loss: 0.3027 - acc: 0.9108 - val_loss: 0.1342 - val_acc: 0.9573\n",
      "Epoch 2/50\n",
      "60000/60000 [==============================] - 2s 41us/step - loss: 0.1102 - acc: 0.9672 - val_loss: 0.1038 - val_acc: 0.9666\n",
      "Epoch 3/50\n",
      "60000/60000 [==============================] - 2s 41us/step - loss: 0.0750 - acc: 0.9780 - val_loss: 0.0922 - val_acc: 0.9709\n",
      "Epoch 4/50\n",
      "60000/60000 [==============================] - 2s 41us/step - loss: 0.0538 - acc: 0.9841 - val_loss: 0.0836 - val_acc: 0.9738\n",
      "Epoch 5/50\n",
      "60000/60000 [==============================] - 2s 41us/step - loss: 0.0404 - acc: 0.9878 - val_loss: 0.0786 - val_acc: 0.9762\n",
      "Epoch 6/50\n",
      "60000/60000 [==============================] - 3s 42us/step - loss: 0.0320 - acc: 0.9908 - val_loss: 0.0782 - val_acc: 0.9751\n",
      "Epoch 7/50\n",
      "60000/60000 [==============================] - 3s 42us/step - loss: 0.0263 - acc: 0.9920 - val_loss: 0.0859 - val_acc: 0.9738\n",
      "Epoch 8/50\n",
      "60000/60000 [==============================] - 2s 40us/step - loss: 0.0199 - acc: 0.9942 - val_loss: 0.0835 - val_acc: 0.9743\n",
      "Epoch 9/50\n",
      "60000/60000 [==============================] - 2s 40us/step - loss: 0.0154 - acc: 0.9962 - val_loss: 0.0820 - val_acc: 0.9760\n",
      "Epoch 10/50\n",
      "60000/60000 [==============================] - 2s 41us/step - loss: 0.0143 - acc: 0.9957 - val_loss: 0.0805 - val_acc: 0.9774\n",
      "Epoch 11/50\n",
      "60000/60000 [==============================] - 2s 40us/step - loss: 0.0101 - acc: 0.9974 - val_loss: 0.0932 - val_acc: 0.9754\n",
      "Epoch 12/50\n",
      "60000/60000 [==============================] - 2s 40us/step - loss: 0.0108 - acc: 0.9968 - val_loss: 0.0932 - val_acc: 0.9742\n",
      "Epoch 13/50\n",
      "60000/60000 [==============================] - 2s 40us/step - loss: 0.0131 - acc: 0.9956 - val_loss: 0.0986 - val_acc: 0.9731\n",
      "Epoch 14/50\n",
      "60000/60000 [==============================] - 2s 40us/step - loss: 0.0103 - acc: 0.9967 - val_loss: 0.0969 - val_acc: 0.9757\n",
      "Epoch 15/50\n",
      "60000/60000 [==============================] - 2s 41us/step - loss: 0.0094 - acc: 0.9970 - val_loss: 0.0919 - val_acc: 0.9764\n",
      "Epoch 16/50\n",
      "60000/60000 [==============================] - 2s 40us/step - loss: 0.0076 - acc: 0.9978 - val_loss: 0.0953 - val_acc: 0.9752\n",
      "Epoch 17/50\n",
      "60000/60000 [==============================] - 2s 40us/step - loss: 0.0063 - acc: 0.9981 - val_loss: 0.0934 - val_acc: 0.9776\n",
      "Epoch 18/50\n",
      "60000/60000 [==============================] - 2s 41us/step - loss: 0.0076 - acc: 0.9977 - val_loss: 0.0900 - val_acc: 0.9776\n",
      "Epoch 19/50\n",
      "60000/60000 [==============================] - 2s 40us/step - loss: 0.0103 - acc: 0.9966 - val_loss: 0.1097 - val_acc: 0.9754\n",
      "Epoch 20/50\n",
      "60000/60000 [==============================] - 2s 41us/step - loss: 0.0105 - acc: 0.9965 - val_loss: 0.0947 - val_acc: 0.9760\n",
      "Epoch 21/50\n",
      "60000/60000 [==============================] - 2s 40us/step - loss: 0.0060 - acc: 0.9981 - val_loss: 0.0888 - val_acc: 0.9795\n",
      "Epoch 22/50\n",
      "60000/60000 [==============================] - 2s 40us/step - loss: 0.0050 - acc: 0.9984 - val_loss: 0.0878 - val_acc: 0.9777\n",
      "Epoch 23/50\n",
      "60000/60000 [==============================] - 2s 39us/step - loss: 0.0047 - acc: 0.9987 - val_loss: 0.0865 - val_acc: 0.9793\n",
      "Epoch 24/50\n",
      "60000/60000 [==============================] - 2s 39us/step - loss: 0.0032 - acc: 0.9992 - val_loss: 0.0934 - val_acc: 0.9786\n",
      "Epoch 25/50\n",
      "60000/60000 [==============================] - 2s 40us/step - loss: 0.0039 - acc: 0.9990 - val_loss: 0.0969 - val_acc: 0.9784\n",
      "Epoch 26/50\n",
      "60000/60000 [==============================] - 2s 40us/step - loss: 0.0063 - acc: 0.9979 - val_loss: 0.1019 - val_acc: 0.9775\n",
      "Epoch 27/50\n",
      "60000/60000 [==============================] - 2s 40us/step - loss: 0.0095 - acc: 0.9969 - val_loss: 0.1242 - val_acc: 0.9726\n",
      "Epoch 28/50\n",
      "60000/60000 [==============================] - 2s 41us/step - loss: 0.0089 - acc: 0.9969 - val_loss: 0.1063 - val_acc: 0.9774\n",
      "Epoch 29/50\n",
      "60000/60000 [==============================] - 2s 40us/step - loss: 0.0070 - acc: 0.9975 - val_loss: 0.0930 - val_acc: 0.9783\n",
      "Epoch 30/50\n",
      "60000/60000 [==============================] - 2s 40us/step - loss: 0.0034 - acc: 0.9991 - val_loss: 0.1013 - val_acc: 0.9776\n",
      "Epoch 31/50\n",
      "60000/60000 [==============================] - 2s 40us/step - loss: 0.0037 - acc: 0.9989 - val_loss: 0.0884 - val_acc: 0.9798\n",
      "Epoch 32/50\n",
      "60000/60000 [==============================] - 2s 39us/step - loss: 0.0025 - acc: 0.9993 - val_loss: 0.1011 - val_acc: 0.9791\n",
      "Epoch 33/50\n",
      "60000/60000 [==============================] - 2s 41us/step - loss: 0.0027 - acc: 0.9992 - val_loss: 0.1090 - val_acc: 0.9770\n",
      "Epoch 34/50\n",
      "60000/60000 [==============================] - 2s 41us/step - loss: 0.0041 - acc: 0.9987 - val_loss: 0.1056 - val_acc: 0.9789\n",
      "Epoch 35/50\n",
      "60000/60000 [==============================] - 3s 42us/step - loss: 0.0042 - acc: 0.9986 - val_loss: 0.1106 - val_acc: 0.9765\n",
      "Epoch 36/50\n",
      "60000/60000 [==============================] - 2s 41us/step - loss: 0.0065 - acc: 0.9978 - val_loss: 0.1252 - val_acc: 0.9723\n",
      "Epoch 37/50\n",
      "60000/60000 [==============================] - 2s 41us/step - loss: 0.0072 - acc: 0.9973 - val_loss: 0.1155 - val_acc: 0.9750\n",
      "Epoch 38/50\n",
      "60000/60000 [==============================] - 2s 41us/step - loss: 0.0051 - acc: 0.9985 - val_loss: 0.1117 - val_acc: 0.9762\n",
      "Epoch 39/50\n",
      "60000/60000 [==============================] - 2s 40us/step - loss: 0.0044 - acc: 0.9983 - val_loss: 0.1021 - val_acc: 0.9778\n",
      "Epoch 40/50\n",
      "60000/60000 [==============================] - 2s 40us/step - loss: 0.0025 - acc: 0.9992 - val_loss: 0.0912 - val_acc: 0.9793\n",
      "Epoch 41/50\n",
      "60000/60000 [==============================] - 2s 40us/step - loss: 0.0016 - acc: 0.9997 - val_loss: 0.0888 - val_acc: 0.9804\n",
      "Epoch 42/50\n",
      "60000/60000 [==============================] - 2s 40us/step - loss: 8.5809e-04 - acc: 0.9998 - val_loss: 0.0870 - val_acc: 0.9818\n",
      "Epoch 43/50\n",
      "60000/60000 [==============================] - 2s 41us/step - loss: 8.8088e-04 - acc: 0.9998 - val_loss: 0.0940 - val_acc: 0.9802\n",
      "Epoch 44/50\n",
      "60000/60000 [==============================] - 2s 41us/step - loss: 7.0257e-04 - acc: 0.9999 - val_loss: 0.0923 - val_acc: 0.9803\n",
      "Epoch 45/50\n",
      "60000/60000 [==============================] - 2s 41us/step - loss: 8.6069e-04 - acc: 0.9999 - val_loss: 0.0939 - val_acc: 0.9796\n",
      "Epoch 46/50\n",
      "60000/60000 [==============================] - 2s 40us/step - loss: 0.0053 - acc: 0.9983 - val_loss: 0.1204 - val_acc: 0.9755\n",
      "Epoch 47/50\n",
      "60000/60000 [==============================] - 2s 41us/step - loss: 0.0127 - acc: 0.9958 - val_loss: 0.1144 - val_acc: 0.9747\n",
      "Epoch 48/50\n",
      "60000/60000 [==============================] - 2s 41us/step - loss: 0.0080 - acc: 0.9975 - val_loss: 0.1000 - val_acc: 0.9793\n",
      "Epoch 49/50\n",
      "60000/60000 [==============================] - 3s 42us/step - loss: 0.0033 - acc: 0.9990 - val_loss: 0.0992 - val_acc: 0.9797\n",
      "Epoch 50/50\n",
      "60000/60000 [==============================] - 2s 40us/step - loss: 0.0014 - acc: 0.9997 - val_loss: 0.0878 - val_acc: 0.9824\n"
     ]
    }
   ],
   "source": [
    "#Create classifier architecture, compile it, and train it\n",
    "\n",
    "def classifier_model():\n",
    "  model=Sequential()\n",
    "  model.add(Dense(100,\n",
    "                  activation='relu',\n",
    "                  kernel_initializer='normal',\n",
    "                  input_shape=(784,)))\n",
    "  model.add(BatchNormalization())\n",
    "  model.add(Dense(100,\n",
    "                  activation='relu',\n",
    "                  kernel_initializer='normal'))\n",
    "  model.add(BatchNormalization())\n",
    "  model.add(Dense(10,\n",
    "                  activation='softmax'))\n",
    "  return model\n",
    "\n",
    "classifier_model=classifier_model()\n",
    "classifier_model.compile(loss='categorical_crossentropy',\n",
    "                 optimizer='adam',\n",
    "                 metrics=['accuracy'])\n",
    "\n",
    "classifier_model_data = classifier_model.fit(data_train, labels_train, validation_data=(data_test, labels_test), epochs=50, batch_size=256, shuffle=True)   "
   ]
  },
  {
   "cell_type": "code",
   "execution_count": 0,
   "metadata": {
    "colab": {
     "base_uri": "https://localhost:8080/",
     "height": 295
    },
    "colab_type": "code",
    "id": "uOsXwFOvrs14",
    "outputId": "01f78378-a21f-4e93-ca41-ff0fbb05e4c2"
   },
   "outputs": [
    {
     "data": {
      "image/png": "[encoded data removed]",
      "text/plain": [
       "<Figure size 432x288 with 1 Axes>"
      ]
     },
     "metadata": {
      "tags": []
     },
     "output_type": "display_data"
    }
   ],
   "source": [
    "#Plot loss vs epoch\n",
    "plt.plot(classifier_model_data.history['loss'])\n",
    "plt.plot(classifier_model_data.history['val_loss'])\n",
    "plt.title('model loss')\n",
    "plt.ylabel('loss')\n",
    "plt.xlabel('epoch')\n",
    "plt.legend(['train', 'test'], loc='upper left')\n",
    "plt.show()"
   ]
  },
  {
   "cell_type": "code",
   "execution_count": 0,
   "metadata": {
    "colab": {
     "base_uri": "https://localhost:8080/",
     "height": 295
    },
    "colab_type": "code",
    "id": "4C4mOVvSr4KP",
    "outputId": "17d17d11-0c1e-4b9f-a54c-51ed35dbec2a"
   },
   "outputs": [
    {
     "data": {
      "image/png": "[encoded data removed]",
      "text/plain": [
       "<Figure size 432x288 with 1 Axes>"
      ]
     },
     "metadata": {
      "tags": []
     },
     "output_type": "display_data"
    }
   ],
   "source": [
    "#Plot accuracy vs epoch\n",
    "plt.plot(classifier_model_data.history['acc'])\n",
    "plt.plot(classifier_model_data.history['val_acc'])\n",
    "plt.title('model accuracy')\n",
    "plt.ylabel('accuracy')\n",
    "plt.xlabel('epoch')\n",
    "plt.legend(['train', 'test'], loc='upper left')\n",
    "plt.show()"
   ]
  },
  {
   "cell_type": "code",
   "execution_count": 0,
   "metadata": {
    "colab": {
     "base_uri": "https://localhost:8080/",
     "height": 50
    },
    "colab_type": "code",
    "id": "gr53zDpTr5wO",
    "outputId": "4f2cf0a9-dac4-4c53-9dfe-2f1850dae442"
   },
   "outputs": [
    {
     "name": "stdout",
     "output_type": "stream",
     "text": [
      "10000/10000 [==============================] - 1s 50us/step\n",
      "The accuracy of the model is: 98.24000000000001%\n"
     ]
    }
   ],
   "source": [
    "#Print accuracy of classifier on MNIST testing data\n",
    "scores = classifier_model.evaluate(data_test,labels_test)\n",
    "print(\"The accuracy of the model is: \"+ str(scores[1]*100) +\"%\")"
   ]
  },
  {
   "cell_type": "code",
   "execution_count": 0,
   "metadata": {
    "colab": {},
    "colab_type": "code",
    "id": "YEcrqpjas3Xh"
   },
   "outputs": [],
   "source": [
    "# Edit the classifier name fed into KerasModel Wrapper with the name of the \n",
    "# classifier from above and then run this block\n",
    "\n",
    "#Get TensorFlow Session to pass into Cleverhans modules\n",
    "sess = backend.get_session()\n",
    "\n",
    "#Create wrapper for classifier model so that it can be passed into Cleverhans modules\n",
    "wrap = KerasModelWrapper(classifier_model)"
   ]
  },
  {
   "cell_type": "markdown",
   "metadata": {
    "colab_type": "text",
    "id": "8_Ehc7tas5YS"
   },
   "source": [
    "#Part 2: The Fast Gradient Method (FGM)"
   ]
  },
  {
   "cell_type": "code",
   "execution_count": 0,
   "metadata": {
    "colab": {
     "base_uri": "https://localhost:8080/",
     "height": 50
    },
    "colab_type": "code",
    "id": "GA5T9mkws9vJ",
    "outputId": "30f33e1b-e0c3-4bba-c37f-976fe4e6554b"
   },
   "outputs": [
    {
     "name": "stdout",
     "output_type": "stream",
     "text": [
      "10000/10000 [==============================] - 5s 499us/step\n",
      "The accuracy of the model with FGSM attack is: 8.07%\n"
     ]
    }
   ],
   "source": [
    "#Implementing the FGSM attack\n",
    "\n",
    "#FGM Instance on trained classifier from Part 1\n",
    "\n",
    "fgsm=FastGradientMethod(wrap, sess=sess)\n",
    "#Attack parameters\n",
    "fgsm_params =  {'eps': 0.25, 'clip_min': 0.0, 'clip_max': 1.0}\n",
    "\n",
    "#Generate adversarial data\n",
    "fgsm_attack_data = fgsm.generate_np(data_test, **fgsm_params)\n",
    "\n",
    "#Evaluate accuracy on target classifier \n",
    "scores = classifier_model.evaluate(fgsm_attack_data,labels_test)\n",
    "print(\"The accuracy of the model with FGSM attack is: \"+ str(scores[1]*100)+\"%\")"
   ]
  },
  {
   "cell_type": "code",
   "execution_count": 0,
   "metadata": {
    "colab": {
     "base_uri": "https://localhost:8080/",
     "height": 83
    },
    "colab_type": "code",
    "id": "wE_rdYIrDeNZ",
    "outputId": "74d03a3d-cb01-4dc6-fd91-15865b0fecb6"
   },
   "outputs": [
    {
     "name": "stdout",
     "output_type": "stream",
     "text": [
      "10 test sample images\n"
     ]
    },
    {
     "data": {
      "image/png": "[encoded data removed]",
      "text/plain": [
       "<Figure size 432x288 with 10 Axes>"
      ]
     },
     "metadata": {
      "tags": []
     },
     "output_type": "display_data"
    }
   ],
   "source": [
    "#Show ten original samples and their corresponding adversarial samples\n",
    "\n",
    "print(\"10 test sample images\")\n",
    "n=10\n",
    "plt.figure()\n",
    "for i in range(n):\n",
    "  ax=plt.subplot(2,10,i+1)\n",
    "  plt.imshow(data_test[i].reshape((28,28)))\n",
    "  plt.gray()\n",
    "  ax.get_xaxis().set_visible(False)\n",
    "  ax.get_yaxis().set_visible(False)\n",
    "\n",
    "\n",
    "  \n",
    "  "
   ]
  },
  {
   "cell_type": "code",
   "execution_count": 0,
   "metadata": {
    "colab": {
     "base_uri": "https://localhost:8080/",
     "height": 83
    },
    "colab_type": "code",
    "id": "F5F8A33Jiia9",
    "outputId": "b3f16673-ae48-4120-bc5a-2c0cb9e6eb34"
   },
   "outputs": [
    {
     "name": "stdout",
     "output_type": "stream",
     "text": [
      "10 test fgsm attack sample images\n"
     ]
    },
    {
     "data": {
      "image/png": "[encoded data removed]",
      "text/plain": [
       "<Figure size 432x288 with 10 Axes>"
      ]
     },
     "metadata": {
      "tags": []
     },
     "output_type": "display_data"
    }
   ],
   "source": [
    "print(\"10 test fgsm attack sample images\")\n",
    "n=10\n",
    "plt.figure()\n",
    "for i in range(n):\n",
    "  ax=plt.subplot(2,10,i+1)\n",
    "  plt.imshow(fgsm_attack_data[i].reshape((28,28)))\n",
    "  plt.gray()\n",
    "  ax.get_xaxis().set_visible(False)\n",
    "  ax.get_yaxis().set_visible(False)\n",
    "  \n",
    "  "
   ]
  },
  {
   "cell_type": "code",
   "execution_count": 0,
   "metadata": {
    "colab": {
     "base_uri": "https://localhost:8080/",
     "height": 1714
    },
    "colab_type": "code",
    "id": "qurgywiaJe-I",
    "outputId": "a4962e17-1284-40ee-8d19-8a5735cbb2fc"
   },
   "outputs": [
    {
     "name": "stdout",
     "output_type": "stream",
     "text": [
      "Train on 60000 samples, validate on 10000 samples\n",
      "Epoch 1/50\n",
      "60000/60000 [==============================] - 15s 252us/step - loss: 0.0389 - acc: 0.0094 - val_loss: 0.0168 - val_acc: 0.0116\n",
      "Epoch 2/50\n",
      "60000/60000 [==============================] - 8s 140us/step - loss: 0.0127 - acc: 0.0107 - val_loss: 0.0096 - val_acc: 0.0137\n",
      "Epoch 3/50\n",
      "60000/60000 [==============================] - 8s 140us/step - loss: 0.0087 - acc: 0.0122 - val_loss: 0.0074 - val_acc: 0.0128\n",
      "Epoch 4/50\n",
      "60000/60000 [==============================] - 8s 141us/step - loss: 0.0071 - acc: 0.0123 - val_loss: 0.0062 - val_acc: 0.0113\n",
      "Epoch 5/50\n",
      "60000/60000 [==============================] - 8s 137us/step - loss: 0.0060 - acc: 0.0130 - val_loss: 0.0055 - val_acc: 0.0127\n",
      "Epoch 6/50\n",
      "60000/60000 [==============================] - 8s 141us/step - loss: 0.0053 - acc: 0.0134 - val_loss: 0.0049 - val_acc: 0.0140\n",
      "Epoch 7/50\n",
      "60000/60000 [==============================] - 8s 139us/step - loss: 0.0048 - acc: 0.0133 - val_loss: 0.0044 - val_acc: 0.0130\n",
      "Epoch 8/50\n",
      "60000/60000 [==============================] - 8s 141us/step - loss: 0.0043 - acc: 0.0128 - val_loss: 0.0040 - val_acc: 0.0125\n",
      "Epoch 9/50\n",
      "60000/60000 [==============================] - 8s 138us/step - loss: 0.0040 - acc: 0.0134 - val_loss: 0.0038 - val_acc: 0.0132\n",
      "Epoch 10/50\n",
      "60000/60000 [==============================] - 8s 140us/step - loss: 0.0037 - acc: 0.0136 - val_loss: 0.0035 - val_acc: 0.0138\n",
      "Epoch 11/50\n",
      "60000/60000 [==============================] - 8s 139us/step - loss: 0.0035 - acc: 0.0137 - val_loss: 0.0033 - val_acc: 0.0143\n",
      "Epoch 12/50\n",
      "60000/60000 [==============================] - 8s 137us/step - loss: 0.0033 - acc: 0.0143 - val_loss: 0.0031 - val_acc: 0.0143\n",
      "Epoch 13/50\n",
      "60000/60000 [==============================] - 8s 136us/step - loss: 0.0031 - acc: 0.0138 - val_loss: 0.0030 - val_acc: 0.0133\n",
      "Epoch 14/50\n",
      "60000/60000 [==============================] - 8s 140us/step - loss: 0.0030 - acc: 0.0137 - val_loss: 0.0028 - val_acc: 0.0156\n",
      "Epoch 15/50\n",
      "60000/60000 [==============================] - 8s 139us/step - loss: 0.0028 - acc: 0.0132 - val_loss: 0.0027 - val_acc: 0.0141\n",
      "Epoch 16/50\n",
      "60000/60000 [==============================] - 8s 140us/step - loss: 0.0027 - acc: 0.0137 - val_loss: 0.0027 - val_acc: 0.0150\n",
      "Epoch 17/50\n",
      "60000/60000 [==============================] - 8s 139us/step - loss: 0.0027 - acc: 0.0134 - val_loss: 0.0027 - val_acc: 0.0163\n",
      "Epoch 18/50\n",
      "60000/60000 [==============================] - 8s 139us/step - loss: 0.0026 - acc: 0.0136 - val_loss: 0.0025 - val_acc: 0.0162\n",
      "Epoch 19/50\n",
      "60000/60000 [==============================] - 8s 136us/step - loss: 0.0025 - acc: 0.0139 - val_loss: 0.0025 - val_acc: 0.0160\n",
      "Epoch 20/50\n",
      "60000/60000 [==============================] - 8s 136us/step - loss: 0.0024 - acc: 0.0137 - val_loss: 0.0024 - val_acc: 0.0155\n",
      "Epoch 21/50\n",
      "60000/60000 [==============================] - 8s 138us/step - loss: 0.0024 - acc: 0.0140 - val_loss: 0.0023 - val_acc: 0.0150\n",
      "Epoch 22/50\n",
      "60000/60000 [==============================] - 8s 138us/step - loss: 0.0023 - acc: 0.0136 - val_loss: 0.0023 - val_acc: 0.0142\n",
      "Epoch 23/50\n",
      "60000/60000 [==============================] - 8s 136us/step - loss: 0.0023 - acc: 0.0133 - val_loss: 0.0023 - val_acc: 0.0141\n",
      "Epoch 24/50\n",
      "60000/60000 [==============================] - 8s 138us/step - loss: 0.0022 - acc: 0.0138 - val_loss: 0.0022 - val_acc: 0.0148\n",
      "Epoch 25/50\n",
      "60000/60000 [==============================] - 8s 138us/step - loss: 0.0022 - acc: 0.0144 - val_loss: 0.0021 - val_acc: 0.0144\n",
      "Epoch 26/50\n",
      "60000/60000 [==============================] - 8s 138us/step - loss: 0.0021 - acc: 0.0138 - val_loss: 0.0021 - val_acc: 0.0149\n",
      "Epoch 27/50\n",
      "60000/60000 [==============================] - 8s 138us/step - loss: 0.0021 - acc: 0.0140 - val_loss: 0.0021 - val_acc: 0.0150\n",
      "Epoch 28/50\n",
      "60000/60000 [==============================] - 8s 139us/step - loss: 0.0021 - acc: 0.0144 - val_loss: 0.0021 - val_acc: 0.0154\n",
      "Epoch 29/50\n",
      "60000/60000 [==============================] - 8s 139us/step - loss: 0.0021 - acc: 0.0136 - val_loss: 0.0020 - val_acc: 0.0138\n",
      "Epoch 30/50\n",
      "60000/60000 [==============================] - 8s 139us/step - loss: 0.0020 - acc: 0.0146 - val_loss: 0.0020 - val_acc: 0.0146\n",
      "Epoch 31/50\n",
      "60000/60000 [==============================] - 8s 139us/step - loss: 0.0020 - acc: 0.0141 - val_loss: 0.0021 - val_acc: 0.0152\n",
      "Epoch 32/50\n",
      "60000/60000 [==============================] - 8s 138us/step - loss: 0.0020 - acc: 0.0149 - val_loss: 0.0020 - val_acc: 0.0156\n",
      "Epoch 33/50\n",
      "60000/60000 [==============================] - 8s 137us/step - loss: 0.0020 - acc: 0.0145 - val_loss: 0.0020 - val_acc: 0.0153\n",
      "Epoch 34/50\n",
      "60000/60000 [==============================] - 8s 138us/step - loss: 0.0020 - acc: 0.0148 - val_loss: 0.0020 - val_acc: 0.0138\n",
      "Epoch 35/50\n",
      "60000/60000 [==============================] - 8s 137us/step - loss: 0.0020 - acc: 0.0145 - val_loss: 0.0020 - val_acc: 0.0157\n",
      "Epoch 36/50\n",
      "60000/60000 [==============================] - 8s 138us/step - loss: 0.0020 - acc: 0.0144 - val_loss: 0.0020 - val_acc: 0.0158\n",
      "Epoch 37/50\n",
      "60000/60000 [==============================] - 8s 138us/step - loss: 0.0020 - acc: 0.0146 - val_loss: 0.0020 - val_acc: 0.0143\n",
      "Epoch 38/50\n",
      "60000/60000 [==============================] - 8s 141us/step - loss: 0.0020 - acc: 0.0144 - val_loss: 0.0020 - val_acc: 0.0167\n",
      "Epoch 39/50\n",
      "60000/60000 [==============================] - 8s 141us/step - loss: 0.0020 - acc: 0.0148 - val_loss: 0.0020 - val_acc: 0.0159\n",
      "Epoch 40/50\n",
      "60000/60000 [==============================] - 8s 140us/step - loss: 0.0020 - acc: 0.0146 - val_loss: 0.0020 - val_acc: 0.0161\n",
      "Epoch 41/50\n",
      "60000/60000 [==============================] - 9s 142us/step - loss: 0.0020 - acc: 0.0153 - val_loss: 0.0020 - val_acc: 0.0166\n",
      "Epoch 42/50\n",
      "60000/60000 [==============================] - 8s 138us/step - loss: 0.0019 - acc: 0.0147 - val_loss: 0.0020 - val_acc: 0.0157\n",
      "Epoch 43/50\n",
      "60000/60000 [==============================] - 8s 141us/step - loss: 0.0019 - acc: 0.0147 - val_loss: 0.0020 - val_acc: 0.0152\n",
      "Epoch 44/50\n",
      "60000/60000 [==============================] - 8s 139us/step - loss: 0.0019 - acc: 0.0147 - val_loss: 0.0020 - val_acc: 0.0155\n",
      "Epoch 45/50\n",
      "60000/60000 [==============================] - 9s 142us/step - loss: 0.0019 - acc: 0.0147 - val_loss: 0.0020 - val_acc: 0.0151\n",
      "Epoch 46/50\n",
      "60000/60000 [==============================] - 9s 143us/step - loss: 0.0019 - acc: 0.0148 - val_loss: 0.0019 - val_acc: 0.0169\n",
      "Epoch 47/50\n",
      "60000/60000 [==============================] - 9s 143us/step - loss: 0.0019 - acc: 0.0145 - val_loss: 0.0019 - val_acc: 0.0152\n",
      "Epoch 48/50\n",
      "60000/60000 [==============================] - 8s 138us/step - loss: 0.0019 - acc: 0.0145 - val_loss: 0.0020 - val_acc: 0.0154\n",
      "Epoch 49/50\n",
      "60000/60000 [==============================] - 8s 137us/step - loss: 0.0019 - acc: 0.0149 - val_loss: 0.0019 - val_acc: 0.0164\n",
      "Epoch 50/50\n",
      "60000/60000 [==============================] - 8s 138us/step - loss: 0.0019 - acc: 0.0143 - val_loss: 0.0019 - val_acc: 0.0149\n"
     ]
    }
   ],
   "source": [
    "#Implementing Detection via Autoencoders\n",
    "\n",
    "def autoencoder():\n",
    "    ae = Sequential()\n",
    "    ae.add(Dense(400, activation=None, kernel_initializer=\"normal\", input_dim=784))\n",
    "    ae.add(Dense(200, activation=None, kernel_initializer='normal'))\n",
    "    ae.add(Dense(100, activation=None, kernel_initializer='normal'))\n",
    "    ae.add(Dense(200, activation=None, kernel_initializer='normal'))\n",
    "    ae.add(Dense(400, activation=None, kernel_initializer='normal'))\n",
    "    ae.add(Dense(784, activation='sigmoid', kernel_initializer='normal'))\n",
    "    return ae\n",
    "\n",
    "#Create and train the autoencoder using the mean squared error loss and adam optimizer\n",
    "\n",
    "ae = autoencoder()\n",
    "\n",
    "ae.compile(loss='mse',\n",
    "                 optimizer='adam',\n",
    "                 metrics=['accuracy'])\n",
    "\n",
    "ae_data = ae.fit(data_train, data_train, validation_data=(data_test, data_test), epochs=50, batch_size=256, shuffle=True)\n"
   ]
  },
  {
   "cell_type": "code",
   "execution_count": 0,
   "metadata": {
    "colab": {
     "base_uri": "https://localhost:8080/",
     "height": 67
    },
    "colab_type": "code",
    "id": "sGVPbCP_JvDo",
    "outputId": "671984de-286e-44f2-c69b-93844b1894ca"
   },
   "outputs": [
    {
     "name": "stdout",
     "output_type": "stream",
     "text": [
      "The threshold is: 0.01934985\n",
      "The number of true positives in test set are: 10000\n",
      "The number of false positives in test set are: 0\n"
     ]
    }
   ],
   "source": [
    "#Using the autoencoder for detection and to determine a threshold \n",
    "\n",
    "# Create adversarial examples using FGSM on training data\n",
    "data_train_attack = fgsm.generate_np(data_train, **fgsm_params)\n",
    "\n",
    "# Obtain reconstruction errors on training set and determine a threshold \n",
    "reconstructed_images=ae.predict(data_train_attack)\n",
    "\n",
    "error = keras.losses.mean_squared_error(data_train_attack, reconstructed_images)\n",
    "\n",
    "# Convert error tensor into NumPy array \n",
    "# CHANGE NAME 'error' TO WHAT YOU CALLED IT ABOVE\n",
    "error = error.eval(session=sess)\n",
    "\n",
    "# Determine threshold (based on min in this case) and print it \n",
    "threshold=np.min(error)\n",
    "\n",
    "print('The threshold is: '+str(threshold))\n",
    "\n",
    "# Calculate error of adversarial testing set\n",
    "\n",
    "reconstructed_images_test=ae.predict(fgsm_attack_data)\n",
    "\n",
    "error_test = keras.losses.mean_squared_error(fgsm_attack_data, reconstructed_images_test)\n",
    "error_test = error_test.eval(session=sess)\n",
    "\n",
    "# Determine how many examples are above threshold and consider them adversarial\n",
    "# (true positive count)\n",
    "tp_count_test=0\n",
    "for i in error_test:\n",
    "  if i>threshold:\n",
    "    tp_count_test+=1\n",
    "\n",
    "# Print number of true positive samples\n",
    "print('The number of true positives in test set are: '+str(tp_count_test))\n",
    "\n",
    "\n",
    "# Determine false positives on benign testing set\n",
    "#FILL THIS IN \n",
    "\n",
    "# Determine how many examples are above threshold and consider them adversarial\n",
    "# (false positive count)\n",
    "fp_count_test=0\n",
    "for i in error_test:\n",
    "  if i<threshold:\n",
    "    fp_count_test+=1\n",
    "\n",
    "    \n",
    "# Print number of false positive samples\n",
    "#FILL THIS IN   \n",
    "\n",
    "print('The number of false positives in test set are: '+str(fp_count_test))"
   ]
  },
  {
   "cell_type": "markdown",
   "metadata": {
    "colab_type": "text",
    "id": "VE2WG6LnP14d"
   },
   "source": [
    "#Part 3: Projected Gradient Descent"
   ]
  },
  {
   "cell_type": "code",
   "execution_count": 0,
   "metadata": {
    "colab": {
     "base_uri": "https://localhost:8080/",
     "height": 50
    },
    "colab_type": "code",
    "id": "iEkYKPN-P4Sj",
    "outputId": "8ec33a2e-37b3-4aff-c2a3-fe1a801d182d"
   },
   "outputs": [
    {
     "name": "stdout",
     "output_type": "stream",
     "text": [
      "10000/10000 [==============================] - 7s 672us/step\n",
      "The accuracy of the model with PGD attack is: 0.67%\n"
     ]
    }
   ],
   "source": [
    "#Implementing the PGD attack\n",
    "\n",
    "#PGD Instance on trained classifier from Part 1\n",
    "pgd = MadryEtAl(wrap, sess=sess)\n",
    "\n",
    "#Attack parameters\n",
    "pgd_params =  {'eps': 0.25, 'eps_iter': 0.01, 'nb_iter':20, 'clip_min': 0.0, 'clip_max': 1.0}\n",
    "\n",
    "#Generate adversarial data\n",
    "pgd_attack_data=pgd.generate_np(data_test,**pgd_params)\n",
    "\n",
    "#Evaluate accuracy of perturbed data on target classifier\n",
    "\n",
    "scores = classifier_model.evaluate(pgd_attack_data,labels_test)\n",
    "print(\"The accuracy of the model with PGD attack is: \"+ str(scores[1]*100)+\"%\")"
   ]
  },
  {
   "cell_type": "code",
   "execution_count": 0,
   "metadata": {
    "colab": {
     "base_uri": "https://localhost:8080/",
     "height": 83
    },
    "colab_type": "code",
    "id": "urEHSPQISer1",
    "outputId": "8a685e54-5cce-4b9c-eea3-001b2ca068fd"
   },
   "outputs": [
    {
     "name": "stdout",
     "output_type": "stream",
     "text": [
      "10 test sample images\n"
     ]
    },
    {
     "data": {
      "image/png": "[encoded data removed]",
      "text/plain": [
       "<Figure size 432x288 with 10 Axes>"
      ]
     },
     "metadata": {
      "tags": []
     },
     "output_type": "display_data"
    }
   ],
   "source": [
    "#Show ten original samples and their corresponding adversarial samples\n",
    "\n",
    "print(\"10 test sample images\")\n",
    "n=10\n",
    "plt.figure()\n",
    "for i in range(n):\n",
    "  ax=plt.subplot(2,10,i+1)\n",
    "  plt.imshow(data_test[i].reshape((28,28)))\n",
    "  plt.gray()\n",
    "  ax.get_xaxis().set_visible(False)\n",
    "  ax.get_yaxis().set_visible(False)\n",
    "\n",
    "\n",
    "  \n",
    "  "
   ]
  },
  {
   "cell_type": "code",
   "execution_count": 0,
   "metadata": {
    "colab": {
     "base_uri": "https://localhost:8080/",
     "height": 83
    },
    "colab_type": "code",
    "id": "eBcdMz1d6YCC",
    "outputId": "a71a5a01-11f2-47e2-b977-aefe36b7e484"
   },
   "outputs": [
    {
     "name": "stdout",
     "output_type": "stream",
     "text": [
      "10 test pgd attack sample images\n"
     ]
    },
    {
     "data": {
      "image/png": "[encoded data removed]",
      "text/plain": [
       "<Figure size 432x288 with 10 Axes>"
      ]
     },
     "metadata": {
      "tags": []
     },
     "output_type": "display_data"
    }
   ],
   "source": [
    "#Show ten original samples and their corresponding adversarial samples\n",
    "print(\"10 test pgd attack sample images\")\n",
    "n=10\n",
    "plt.figure()\n",
    "for i in range(n):\n",
    "  ax=plt.subplot(2,10,i+1)\n",
    "  plt.imshow(pgd_attack_data[i].reshape((28,28)))\n",
    "  plt.gray()\n",
    "  ax.get_xaxis().set_visible(False)\n",
    "  ax.get_yaxis().set_visible(False)"
   ]
  },
  {
   "cell_type": "code",
   "execution_count": 0,
   "metadata": {
    "colab": {
     "base_uri": "https://localhost:8080/",
     "height": 1714
    },
    "colab_type": "code",
    "id": "gTygGikdUWU8",
    "outputId": "a663109a-d038-44c8-f794-619a99e19bcf"
   },
   "outputs": [
    {
     "name": "stdout",
     "output_type": "stream",
     "text": [
      "Train on 60000 samples, validate on 10000 samples\n",
      "Epoch 1/50\n",
      "60000/60000 [==============================] - 11s 184us/step - loss: 2.4119 - acc: 0.7355 - val_loss: 0.7749 - val_acc: 0.8685\n",
      "Epoch 2/50\n",
      "60000/60000 [==============================] - 3s 43us/step - loss: 0.1439 - acc: 0.9654 - val_loss: 0.6827 - val_acc: 0.8715\n",
      "Epoch 3/50\n",
      "60000/60000 [==============================] - 3s 43us/step - loss: 0.0588 - acc: 0.9847 - val_loss: 0.6882 - val_acc: 0.8683\n",
      "Epoch 4/50\n",
      "60000/60000 [==============================] - 3s 42us/step - loss: 0.0314 - acc: 0.9919 - val_loss: 0.6634 - val_acc: 0.8674\n",
      "Epoch 5/50\n",
      "60000/60000 [==============================] - 3s 42us/step - loss: 0.0183 - acc: 0.9957 - val_loss: 0.6437 - val_acc: 0.8705\n",
      "Epoch 6/50\n",
      "60000/60000 [==============================] - 3s 43us/step - loss: 0.0122 - acc: 0.9974 - val_loss: 0.6352 - val_acc: 0.8662\n",
      "Epoch 7/50\n",
      "60000/60000 [==============================] - 3s 44us/step - loss: 0.0078 - acc: 0.9986 - val_loss: 0.6849 - val_acc: 0.8595\n",
      "Epoch 8/50\n",
      "60000/60000 [==============================] - 3s 44us/step - loss: 0.0055 - acc: 0.9993 - val_loss: 0.6293 - val_acc: 0.8705\n",
      "Epoch 9/50\n",
      "60000/60000 [==============================] - 3s 43us/step - loss: 0.0043 - acc: 0.9996 - val_loss: 0.6448 - val_acc: 0.8681\n",
      "Epoch 10/50\n",
      "60000/60000 [==============================] - 3s 42us/step - loss: 0.0033 - acc: 0.9997 - val_loss: 0.6218 - val_acc: 0.8754\n",
      "Epoch 11/50\n",
      "60000/60000 [==============================] - 3s 43us/step - loss: 0.0028 - acc: 0.9997 - val_loss: 0.6908 - val_acc: 0.8643\n",
      "Epoch 12/50\n",
      "60000/60000 [==============================] - 2s 41us/step - loss: 0.0026 - acc: 0.9998 - val_loss: 0.6658 - val_acc: 0.8699\n",
      "Epoch 13/50\n",
      "60000/60000 [==============================] - 2s 40us/step - loss: 0.0020 - acc: 0.9999 - val_loss: 0.6691 - val_acc: 0.8682\n",
      "Epoch 14/50\n",
      "60000/60000 [==============================] - 2s 40us/step - loss: 0.0018 - acc: 0.9999 - val_loss: 0.6852 - val_acc: 0.8664\n",
      "Epoch 15/50\n",
      "60000/60000 [==============================] - 2s 40us/step - loss: 0.0016 - acc: 0.9999 - val_loss: 0.6794 - val_acc: 0.8700\n",
      "Epoch 16/50\n",
      "60000/60000 [==============================] - 2s 39us/step - loss: 0.0014 - acc: 0.9999 - val_loss: 0.6710 - val_acc: 0.8701\n",
      "Epoch 17/50\n",
      "60000/60000 [==============================] - 2s 40us/step - loss: 0.0013 - acc: 1.0000 - val_loss: 0.7049 - val_acc: 0.8671\n",
      "Epoch 18/50\n",
      "60000/60000 [==============================] - 2s 40us/step - loss: 0.0013 - acc: 0.9999 - val_loss: 0.7208 - val_acc: 0.8648\n",
      "Epoch 19/50\n",
      "60000/60000 [==============================] - 2s 41us/step - loss: 0.0014 - acc: 0.9999 - val_loss: 0.6974 - val_acc: 0.8694\n",
      "Epoch 20/50\n",
      "60000/60000 [==============================] - 2s 41us/step - loss: 0.0012 - acc: 1.0000 - val_loss: 0.7091 - val_acc: 0.8674\n",
      "Epoch 21/50\n",
      "60000/60000 [==============================] - 2s 40us/step - loss: 0.0012 - acc: 0.9999 - val_loss: 0.6618 - val_acc: 0.8769\n",
      "Epoch 22/50\n",
      "60000/60000 [==============================] - 2s 40us/step - loss: 0.0011 - acc: 0.9999 - val_loss: 0.7272 - val_acc: 0.8668\n",
      "Epoch 23/50\n",
      "60000/60000 [==============================] - 2s 40us/step - loss: 9.5400e-04 - acc: 1.0000 - val_loss: 0.6950 - val_acc: 0.8733\n",
      "Epoch 24/50\n",
      "60000/60000 [==============================] - 2s 41us/step - loss: 7.8781e-04 - acc: 1.0000 - val_loss: 0.7504 - val_acc: 0.8602\n",
      "Epoch 25/50\n",
      "60000/60000 [==============================] - 2s 41us/step - loss: 8.2728e-04 - acc: 0.9999 - val_loss: 0.7729 - val_acc: 0.8607\n",
      "Epoch 26/50\n",
      "60000/60000 [==============================] - 2s 40us/step - loss: 0.0059 - acc: 0.9982 - val_loss: 1.0001 - val_acc: 0.8365\n",
      "Epoch 27/50\n",
      "60000/60000 [==============================] - 2s 40us/step - loss: 0.0033 - acc: 0.9990 - val_loss: 1.0217 - val_acc: 0.8184\n",
      "Epoch 28/50\n",
      "60000/60000 [==============================] - 2s 39us/step - loss: 0.0016 - acc: 0.9995 - val_loss: 0.8158 - val_acc: 0.8494\n",
      "Epoch 29/50\n",
      "60000/60000 [==============================] - 2s 39us/step - loss: 7.8809e-04 - acc: 0.9998 - val_loss: 1.0005 - val_acc: 0.8188\n",
      "Epoch 30/50\n",
      "60000/60000 [==============================] - 2s 40us/step - loss: 8.4197e-04 - acc: 0.9997 - val_loss: 0.9260 - val_acc: 0.8348\n",
      "Epoch 31/50\n",
      "60000/60000 [==============================] - 2s 40us/step - loss: 3.1742e-04 - acc: 1.0000 - val_loss: 0.8644 - val_acc: 0.8514\n",
      "Epoch 32/50\n",
      "60000/60000 [==============================] - 2s 40us/step - loss: 1.7062e-04 - acc: 1.0000 - val_loss: 0.8145 - val_acc: 0.8523\n",
      "Epoch 33/50\n",
      "60000/60000 [==============================] - 2s 40us/step - loss: 9.3918e-05 - acc: 1.0000 - val_loss: 0.7866 - val_acc: 0.8592\n",
      "Epoch 34/50\n",
      "60000/60000 [==============================] - 2s 39us/step - loss: 7.5268e-05 - acc: 1.0000 - val_loss: 0.7749 - val_acc: 0.8596\n",
      "Epoch 35/50\n",
      "60000/60000 [==============================] - 2s 39us/step - loss: 5.0563e-05 - acc: 1.0000 - val_loss: 0.7894 - val_acc: 0.8563\n",
      "Epoch 36/50\n",
      "60000/60000 [==============================] - 2s 39us/step - loss: 4.0087e-05 - acc: 1.0000 - val_loss: 0.7920 - val_acc: 0.8562\n",
      "Epoch 37/50\n",
      "60000/60000 [==============================] - 2s 39us/step - loss: 3.7264e-05 - acc: 1.0000 - val_loss: 0.7701 - val_acc: 0.8616\n",
      "Epoch 38/50\n",
      "60000/60000 [==============================] - 2s 39us/step - loss: 3.8123e-05 - acc: 1.0000 - val_loss: 0.7634 - val_acc: 0.8640\n",
      "Epoch 39/50\n",
      "60000/60000 [==============================] - 2s 41us/step - loss: 8.5812e-05 - acc: 1.0000 - val_loss: 0.8380 - val_acc: 0.8535\n",
      "Epoch 40/50\n",
      "60000/60000 [==============================] - 2s 39us/step - loss: 1.5142e-04 - acc: 1.0000 - val_loss: 0.9014 - val_acc: 0.8470\n",
      "Epoch 41/50\n",
      "60000/60000 [==============================] - 2s 38us/step - loss: 0.0056 - acc: 0.9982 - val_loss: 1.0845 - val_acc: 0.8151\n",
      "Epoch 42/50\n",
      "60000/60000 [==============================] - 2s 38us/step - loss: 0.0030 - acc: 0.9990 - val_loss: 1.1672 - val_acc: 0.8093\n",
      "Epoch 43/50\n",
      "60000/60000 [==============================] - 2s 39us/step - loss: 5.8361e-04 - acc: 0.9998 - val_loss: 1.0147 - val_acc: 0.8353\n",
      "Epoch 44/50\n",
      "60000/60000 [==============================] - 2s 39us/step - loss: 5.1748e-04 - acc: 0.9999 - val_loss: 1.1642 - val_acc: 0.8100\n",
      "Epoch 45/50\n",
      "60000/60000 [==============================] - 2s 39us/step - loss: 1.3752e-04 - acc: 1.0000 - val_loss: 0.9528 - val_acc: 0.8333\n",
      "Epoch 46/50\n",
      "60000/60000 [==============================] - 2s 39us/step - loss: 8.2551e-05 - acc: 1.0000 - val_loss: 0.9902 - val_acc: 0.8296\n",
      "Epoch 47/50\n",
      "60000/60000 [==============================] - 2s 38us/step - loss: 7.4653e-05 - acc: 1.0000 - val_loss: 0.9933 - val_acc: 0.8276\n",
      "Epoch 48/50\n",
      "60000/60000 [==============================] - 2s 38us/step - loss: 4.1381e-05 - acc: 1.0000 - val_loss: 1.0229 - val_acc: 0.8238\n",
      "Epoch 49/50\n",
      "60000/60000 [==============================] - 2s 39us/step - loss: 3.3085e-05 - acc: 1.0000 - val_loss: 1.0304 - val_acc: 0.8233\n",
      "Epoch 50/50\n",
      "60000/60000 [==============================] - 2s 38us/step - loss: 3.1207e-05 - acc: 1.0000 - val_loss: 0.9925 - val_acc: 0.8295\n"
     ]
    }
   ],
   "source": [
    "#Implementing the adversarial training defense\n",
    "data_train_attack=pgd.generate_np(data_train, **pgd_params)\n",
    "adv_model=keras.models.clone_model(classifier_model)\n",
    "adv_model.build()\n",
    "adv_model.set_weights(classifier_model.get_weights())\n",
    "adv_model.compile(loss='categorical_crossentropy',\n",
    "                 optimizer='adam',\n",
    "                 metrics=['accuracy'])\n",
    "\n",
    "adv_model_data = adv_model.fit(data_train_attack, labels_train, validation_data=(data_test, labels_test), epochs=50, batch_size=256, shuffle=True)   "
   ]
  },
  {
   "cell_type": "code",
   "execution_count": 0,
   "metadata": {
    "colab": {
     "base_uri": "https://localhost:8080/",
     "height": 50
    },
    "colab_type": "code",
    "id": "i6dMEXGBUlci",
    "outputId": "0f3c8f32-9e0b-40cf-a9f5-bc8800439536"
   },
   "outputs": [
    {
     "name": "stdout",
     "output_type": "stream",
     "text": [
      "10000/10000 [==============================] - 1s 56us/step\n",
      "The accuracy of the model with adversarial training is: 82.95%\n"
     ]
    }
   ],
   "source": [
    "#Using the defense to evaluate the accuracy of the perturbed data\n",
    "scores = adv_model.evaluate(data_test,labels_test)\n",
    "print(\"The accuracy of the model with adversarial training is: \"+str(scores[1]*100)+\"%\")"
   ]
  },
  {
   "cell_type": "markdown",
   "metadata": {
    "colab_type": "text",
    "id": "MqIEiMdar_5q"
   },
   "source": [
    "#Part 4: Carlini and Wagner Attack"
   ]
  },
  {
   "cell_type": "code",
   "execution_count": 0,
   "metadata": {
    "colab": {
     "base_uri": "https://localhost:8080/",
     "height": 50
    },
    "colab_type": "code",
    "id": "oyyNb-v5sCY6",
    "outputId": "98f18f99-2a8b-4a29-a0c8-93a44850a1c9"
   },
   "outputs": [
    {
     "name": "stdout",
     "output_type": "stream",
     "text": [
      "10000/10000 [==============================] - 7s 683us/step\n",
      "The accuracy of the model with CW attack is: 1.26%\n"
     ]
    }
   ],
   "source": [
    "#Implementing the CW attack\n",
    "\n",
    "#CW Instance on trained classifier from Part 1\n",
    "cw = CarliniWagnerL2(wrap, sess=sess)\n",
    "\n",
    "#Attack parameters\n",
    "cw_params =  {'binary_search_steps': 1, 'y':None, 'learning_rate': 1.25, 'batch_size':16, 'initial_const':10, 'clip_min': 0.0, 'clip_max': 1.0}\n",
    "\n",
    "#Generate adversarial data\n",
    "cw_attack_data = cw.generate_np(data_test,**cw_params)\n",
    "\n",
    "#Evaluate accuracy of perturbed data on target classifier\n",
    "scores = classifier_model.evaluate(cw_attack_data,labels_test)\n",
    "print(\"The accuracy of the model with CW attack is: \"+ str(scores[1]*100)+\"%\")"
   ]
  },
  {
   "cell_type": "code",
   "execution_count": 0,
   "metadata": {
    "colab": {
     "base_uri": "https://localhost:8080/",
     "height": 83
    },
    "colab_type": "code",
    "id": "rlEMqrlPurRL",
    "outputId": "1a466f48-d308-4372-c199-46c71c546f9e"
   },
   "outputs": [
    {
     "name": "stdout",
     "output_type": "stream",
     "text": [
      "10 test sample images\n"
     ]
    },
    {
     "data": {
      "image/png": "[encoded data removed]",
      "text/plain": [
       "<Figure size 432x288 with 10 Axes>"
      ]
     },
     "metadata": {
      "tags": []
     },
     "output_type": "display_data"
    }
   ],
   "source": [
    "#Show ten original samples and their corresponding adversarial samples\n",
    "\n",
    "print(\"10 test sample images\")\n",
    "n=10\n",
    "plt.figure()\n",
    "for i in range(n):\n",
    "  ax=plt.subplot(2,10,i+1)\n",
    "  plt.imshow(data_test[i].reshape((28,28)))\n",
    "  plt.gray()\n",
    "  ax.get_xaxis().set_visible(False)\n",
    "  ax.get_yaxis().set_visible(False)"
   ]
  },
  {
   "cell_type": "code",
   "execution_count": 0,
   "metadata": {
    "colab": {
     "base_uri": "https://localhost:8080/",
     "height": 83
    },
    "colab_type": "code",
    "id": "Fh-mytcDHtFE",
    "outputId": "2e845f21-f08e-4a96-8c98-d92a2c4a1e78"
   },
   "outputs": [
    {
     "name": "stdout",
     "output_type": "stream",
     "text": [
      "10 test cw attack sample images\n"
     ]
    },
    {
     "data": {
      "image/png": "[encoded data removed]",
      "text/plain": [
       "<Figure size 432x288 with 10 Axes>"
      ]
     },
     "metadata": {
      "tags": []
     },
     "output_type": "display_data"
    }
   ],
   "source": [
    "print(\"10 test cw attack sample images\")\n",
    "n=10\n",
    "plt.figure()\n",
    "for i in range(n):\n",
    "  ax=plt.subplot(2,10,i+1)\n",
    "  plt.imshow(cw_attack_data[i].reshape((28,28)))\n",
    "  plt.gray()\n",
    "  ax.get_xaxis().set_visible(False)\n",
    "  ax.get_yaxis().set_visible(False)"
   ]
  },
  {
   "cell_type": "code",
   "execution_count": 0,
   "metadata": {
    "colab": {
     "base_uri": "https://localhost:8080/",
     "height": 1714
    },
    "colab_type": "code",
    "id": "P-VhQHQ2uvmV",
    "outputId": "bb8eab3f-f432-49e4-cabf-84cda924eb38"
   },
   "outputs": [
    {
     "name": "stdout",
     "output_type": "stream",
     "text": [
      "Train on 60000 samples, validate on 10000 samples\n",
      "Epoch 1/50\n",
      "60000/60000 [==============================] - 11s 178us/step - loss: 0.3475 - acc: 0.8971 - val_loss: 0.1430 - val_acc: 0.9572\n",
      "Epoch 2/50\n",
      "60000/60000 [==============================] - 2s 27us/step - loss: 0.1157 - acc: 0.9668 - val_loss: 0.1022 - val_acc: 0.9706\n",
      "Epoch 3/50\n",
      "60000/60000 [==============================] - 2s 27us/step - loss: 0.0770 - acc: 0.9777 - val_loss: 0.0856 - val_acc: 0.9746\n",
      "Epoch 4/50\n",
      "60000/60000 [==============================] - 2s 26us/step - loss: 0.0569 - acc: 0.9837 - val_loss: 0.0793 - val_acc: 0.9765\n",
      "Epoch 5/50\n",
      "60000/60000 [==============================] - 2s 27us/step - loss: 0.0429 - acc: 0.9876 - val_loss: 0.0749 - val_acc: 0.9778\n",
      "Epoch 6/50\n",
      "60000/60000 [==============================] - 2s 27us/step - loss: 0.0347 - acc: 0.9899 - val_loss: 0.0749 - val_acc: 0.9775\n",
      "Epoch 7/50\n",
      "60000/60000 [==============================] - 2s 27us/step - loss: 0.0275 - acc: 0.9924 - val_loss: 0.0754 - val_acc: 0.9792\n",
      "Epoch 8/50\n",
      "60000/60000 [==============================] - 2s 26us/step - loss: 0.0235 - acc: 0.9931 - val_loss: 0.0742 - val_acc: 0.9800\n",
      "Epoch 9/50\n",
      "60000/60000 [==============================] - 2s 26us/step - loss: 0.0190 - acc: 0.9947 - val_loss: 0.0755 - val_acc: 0.9789\n",
      "Epoch 10/50\n",
      "60000/60000 [==============================] - 2s 26us/step - loss: 0.0164 - acc: 0.9953 - val_loss: 0.0783 - val_acc: 0.9779\n",
      "Epoch 11/50\n",
      "60000/60000 [==============================] - 2s 26us/step - loss: 0.0145 - acc: 0.9960 - val_loss: 0.0784 - val_acc: 0.9787\n",
      "Epoch 12/50\n",
      "60000/60000 [==============================] - 2s 27us/step - loss: 0.0130 - acc: 0.9965 - val_loss: 0.0789 - val_acc: 0.9794\n",
      "Epoch 13/50\n",
      "60000/60000 [==============================] - 2s 26us/step - loss: 0.0107 - acc: 0.9971 - val_loss: 0.0826 - val_acc: 0.9778\n",
      "Epoch 14/50\n",
      "60000/60000 [==============================] - 2s 26us/step - loss: 0.0097 - acc: 0.9975 - val_loss: 0.0834 - val_acc: 0.9790\n",
      "Epoch 15/50\n",
      "60000/60000 [==============================] - 2s 27us/step - loss: 0.0113 - acc: 0.9968 - val_loss: 0.0859 - val_acc: 0.9782\n",
      "Epoch 16/50\n",
      "60000/60000 [==============================] - 2s 26us/step - loss: 0.0117 - acc: 0.9962 - val_loss: 0.0863 - val_acc: 0.9777\n",
      "Epoch 17/50\n",
      "60000/60000 [==============================] - 2s 26us/step - loss: 0.0090 - acc: 0.9975 - val_loss: 0.0869 - val_acc: 0.9789\n",
      "Epoch 18/50\n",
      "60000/60000 [==============================] - 2s 27us/step - loss: 0.0081 - acc: 0.9977 - val_loss: 0.0825 - val_acc: 0.9793\n",
      "Epoch 19/50\n",
      "60000/60000 [==============================] - 2s 27us/step - loss: 0.0071 - acc: 0.9980 - val_loss: 0.0852 - val_acc: 0.9802\n",
      "Epoch 20/50\n",
      "60000/60000 [==============================] - 2s 26us/step - loss: 0.0059 - acc: 0.9984 - val_loss: 0.0869 - val_acc: 0.9804\n",
      "Epoch 21/50\n",
      "60000/60000 [==============================] - 2s 26us/step - loss: 0.0066 - acc: 0.9982 - val_loss: 0.0904 - val_acc: 0.9792\n",
      "Epoch 22/50\n",
      "60000/60000 [==============================] - 2s 27us/step - loss: 0.0105 - acc: 0.9964 - val_loss: 0.0984 - val_acc: 0.9784\n",
      "Epoch 23/50\n",
      "60000/60000 [==============================] - 2s 27us/step - loss: 0.0086 - acc: 0.9971 - val_loss: 0.0851 - val_acc: 0.9803\n",
      "Epoch 24/50\n",
      "60000/60000 [==============================] - 2s 26us/step - loss: 0.0075 - acc: 0.9977 - val_loss: 0.0903 - val_acc: 0.9795\n",
      "Epoch 25/50\n",
      "60000/60000 [==============================] - 2s 27us/step - loss: 0.0046 - acc: 0.9987 - val_loss: 0.0843 - val_acc: 0.9804\n",
      "Epoch 26/50\n",
      "60000/60000 [==============================] - 2s 27us/step - loss: 0.0043 - acc: 0.9988 - val_loss: 0.0889 - val_acc: 0.9813\n",
      "Epoch 27/50\n",
      "60000/60000 [==============================] - 2s 27us/step - loss: 0.0051 - acc: 0.9983 - val_loss: 0.0925 - val_acc: 0.9800\n",
      "Epoch 28/50\n",
      "60000/60000 [==============================] - 2s 27us/step - loss: 0.0054 - acc: 0.9984 - val_loss: 0.1004 - val_acc: 0.9799\n",
      "Epoch 29/50\n",
      "60000/60000 [==============================] - 2s 28us/step - loss: 0.0047 - acc: 0.9986 - val_loss: 0.0885 - val_acc: 0.9799\n",
      "Epoch 30/50\n",
      "60000/60000 [==============================] - 2s 28us/step - loss: 0.0041 - acc: 0.9989 - val_loss: 0.0935 - val_acc: 0.9794\n",
      "Epoch 31/50\n",
      "60000/60000 [==============================] - 2s 27us/step - loss: 0.0046 - acc: 0.9986 - val_loss: 0.0990 - val_acc: 0.9788\n",
      "Epoch 32/50\n",
      "60000/60000 [==============================] - 2s 27us/step - loss: 0.0042 - acc: 0.9988 - val_loss: 0.0991 - val_acc: 0.9791\n",
      "Epoch 33/50\n",
      "60000/60000 [==============================] - 2s 27us/step - loss: 0.0050 - acc: 0.9985 - val_loss: 0.1035 - val_acc: 0.9791\n",
      "Epoch 34/50\n",
      "60000/60000 [==============================] - 2s 27us/step - loss: 0.0060 - acc: 0.9980 - val_loss: 0.0977 - val_acc: 0.9782\n",
      "Epoch 35/50\n",
      "60000/60000 [==============================] - 2s 28us/step - loss: 0.0068 - acc: 0.9977 - val_loss: 0.0949 - val_acc: 0.9797\n",
      "Epoch 36/50\n",
      "60000/60000 [==============================] - 2s 28us/step - loss: 0.0056 - acc: 0.9980 - val_loss: 0.1038 - val_acc: 0.9783\n",
      "Epoch 37/50\n",
      "60000/60000 [==============================] - 2s 26us/step - loss: 0.0050 - acc: 0.9983 - val_loss: 0.0980 - val_acc: 0.9801\n",
      "Epoch 38/50\n",
      "60000/60000 [==============================] - 2s 26us/step - loss: 0.0058 - acc: 0.9980 - val_loss: 0.0909 - val_acc: 0.9815\n",
      "Epoch 39/50\n",
      "60000/60000 [==============================] - 2s 26us/step - loss: 0.0034 - acc: 0.9991 - val_loss: 0.0868 - val_acc: 0.9828\n",
      "Epoch 40/50\n",
      "60000/60000 [==============================] - 2s 26us/step - loss: 0.0028 - acc: 0.9992 - val_loss: 0.0926 - val_acc: 0.9818\n",
      "Epoch 41/50\n",
      "60000/60000 [==============================] - 2s 25us/step - loss: 0.0052 - acc: 0.9983 - val_loss: 0.0955 - val_acc: 0.9807\n",
      "Epoch 42/50\n",
      "60000/60000 [==============================] - 2s 25us/step - loss: 0.0039 - acc: 0.9987 - val_loss: 0.0957 - val_acc: 0.9807\n",
      "Epoch 43/50\n",
      "60000/60000 [==============================] - 2s 26us/step - loss: 0.0034 - acc: 0.9989 - val_loss: 0.0918 - val_acc: 0.9813\n",
      "Epoch 44/50\n",
      "60000/60000 [==============================] - 2s 27us/step - loss: 0.0035 - acc: 0.9988 - val_loss: 0.1004 - val_acc: 0.9799\n",
      "Epoch 45/50\n",
      "60000/60000 [==============================] - 2s 26us/step - loss: 0.0044 - acc: 0.9986 - val_loss: 0.1069 - val_acc: 0.9808\n",
      "Epoch 46/50\n",
      "60000/60000 [==============================] - 2s 25us/step - loss: 0.0028 - acc: 0.9992 - val_loss: 0.1028 - val_acc: 0.9809\n",
      "Epoch 47/50\n",
      "60000/60000 [==============================] - 2s 27us/step - loss: 0.0015 - acc: 0.9996 - val_loss: 0.0958 - val_acc: 0.9807\n",
      "Epoch 48/50\n",
      "60000/60000 [==============================] - 2s 26us/step - loss: 0.0022 - acc: 0.9994 - val_loss: 0.0997 - val_acc: 0.9808\n",
      "Epoch 49/50\n",
      "60000/60000 [==============================] - 2s 26us/step - loss: 0.0022 - acc: 0.9995 - val_loss: 0.1019 - val_acc: 0.9808\n",
      "Epoch 50/50\n",
      "60000/60000 [==============================] - 2s 25us/step - loss: 0.0054 - acc: 0.9983 - val_loss: 0.1086 - val_acc: 0.9792\n"
     ]
    }
   ],
   "source": [
    "#Implementing the dimensionality reduction (PCA) defense \n",
    "\n",
    "#Calculate PCA projection\n",
    "pca = PCA(100)\n",
    "pca.fit(data_train)\n",
    "pca_train = pca.transform(data_train)\n",
    "pca_test = pca.transform(data_test)\n",
    "\n",
    "#Transform perturbed CW data using the subspace from the original training data\n",
    "\n",
    "pca_cw_attack=pca.transform(cw_attack_data)\n",
    "\n",
    "# create model for PCA\n",
    "def pca_model():\n",
    "    model = Sequential()\n",
    "    \n",
    "    #FILL THIS IN \n",
    "    model.add(Dense(100,\n",
    "                    activation='relu',\n",
    "                    kernel_initializer='normal',\n",
    "                    input_shape=(100,)))\n",
    "    model.add(BatchNormalization())\n",
    "    model.add(Dense(100,\n",
    "                  activation='relu',\n",
    "                  kernel_initializer='normal'))\n",
    "    model.add(BatchNormalization())\n",
    "    model.add(Dense(10,\n",
    "                  activation='softmax'))\n",
    "\n",
    "    return model\n",
    "\n",
    "#Create model graph, compile it, and train it using pca_train lables_train \n",
    "\n",
    "pca_model=pca_model()\n",
    "pca_model.compile(loss='categorical_crossentropy',\n",
    "                 optimizer='adam',\n",
    "                 metrics=['accuracy'])\n",
    "\n",
    "pca_model_data = pca_model.fit(pca_train, labels_train, validation_data=(pca_test, labels_test), epochs=50, batch_size=256, shuffle=True)   "
   ]
  },
  {
   "cell_type": "code",
   "execution_count": 0,
   "metadata": {
    "colab": {
     "base_uri": "https://localhost:8080/",
     "height": 50
    },
    "colab_type": "code",
    "id": "o9L61AfG2y94",
    "outputId": "15e943c2-8af9-4f8b-8922-954d74e204fe"
   },
   "outputs": [
    {
     "name": "stdout",
     "output_type": "stream",
     "text": [
      "10000/10000 [==============================] - 0s 50us/step\n",
      "The accuracy of the model with PCA is: 85.55%\n"
     ]
    }
   ],
   "source": [
    "#Using the defense (and comparing to baseline accuracy)\n",
    "\n",
    "scores = pca_model.evaluate(pca_cw_attack,labels_test)\n",
    "print(\"The accuracy of the model with PCA is: \"+ str(scores[1]*100)+\"%\")"
   ]
  },
  {
   "cell_type": "markdown",
   "metadata": {
    "colab_type": "text",
    "id": "KP0mENqGhDt0"
   },
   "source": [
    "#Part 5: DeepFool "
   ]
  },
  {
   "cell_type": "code",
   "execution_count": 0,
   "metadata": {
    "colab": {
     "base_uri": "https://localhost:8080/",
     "height": 50
    },
    "colab_type": "code",
    "id": "zHraovc2hES3",
    "outputId": "8b785934-556a-4328-e33f-c204f37d1dee"
   },
   "outputs": [
    {
     "name": "stdout",
     "output_type": "stream",
     "text": [
      "10000/10000 [==============================] - 7s 687us/step\n",
      "The accuracy of the model with Deep Fool attack is: 1.29%\n"
     ]
    }
   ],
   "source": [
    "#Implementing the DeepFool attack\n",
    "\n",
    "#DeepFool Instance on trained classifier from Part 1\n",
    "df = DeepFool(wrap, sess=sess)\n",
    "\n",
    "#Attack parameters\n",
    "df_params =  {'nb_candidate': 10, 'max_iter': 50, 'clip_min': 0.0, 'clip_max': 1.0}\n",
    "\n",
    "#Generate adversarial data\n",
    "df_attack_data = df.generate_np(data_test,**cw_params)\n",
    "\n",
    "#Evaluate accuracy of perturbed data on target classifier\n",
    "scores = classifier_model.evaluate(df_attack_data,labels_test)\n",
    "print(\"The accuracy of the model with Deep Fool attack is: \"+ str(scores[1]*100)+\"%\")"
   ]
  },
  {
   "cell_type": "code",
   "execution_count": 0,
   "metadata": {
    "colab": {
     "base_uri": "https://localhost:8080/",
     "height": 83
    },
    "colab_type": "code",
    "id": "zEsLfmxThZ6M",
    "outputId": "8bbd117a-e033-4a15-f48a-99e9fa7a8d52"
   },
   "outputs": [
    {
     "name": "stdout",
     "output_type": "stream",
     "text": [
      "10 test sample images\n"
     ]
    },
    {
     "data": {
      "image/png": "[encoded data removed]",
      "text/plain": [
       "<Figure size 432x288 with 10 Axes>"
      ]
     },
     "metadata": {
      "tags": []
     },
     "output_type": "display_data"
    }
   ],
   "source": [
    "#Show ten original samples and their corresponding adversarial samples\n",
    "\n",
    "print(\"10 test sample images\")\n",
    "n=10\n",
    "plt.figure()\n",
    "for i in range(n):\n",
    "  ax=plt.subplot(2,10,i+1)\n",
    "  plt.imshow(data_test[i].reshape((28,28)))\n",
    "  plt.gray()\n",
    "  ax.get_xaxis().set_visible(False)\n",
    "  ax.get_yaxis().set_visible(False)"
   ]
  },
  {
   "cell_type": "code",
   "execution_count": 0,
   "metadata": {
    "colab": {
     "base_uri": "https://localhost:8080/",
     "height": 83
    },
    "colab_type": "code",
    "id": "nbgoTl1FKs84",
    "outputId": "cbf4e262-74ba-4e94-b946-34237e755660"
   },
   "outputs": [
    {
     "name": "stdout",
     "output_type": "stream",
     "text": [
      "10 test deep fool attack images\n"
     ]
    },
    {
     "data": {
      "image/png": "[encoded data removed]",
      "text/plain": [
       "<Figure size 432x288 with 10 Axes>"
      ]
     },
     "metadata": {
      "tags": []
     },
     "output_type": "display_data"
    }
   ],
   "source": [
    "print(\"10 test deep fool attack images\")\n",
    "n=10\n",
    "plt.figure()\n",
    "for i in range(n):\n",
    "  ax=plt.subplot(2,10,i+1)\n",
    "  plt.imshow(df_attack_data[i].reshape((28,28)))\n",
    "  plt.gray()\n",
    "  ax.get_xaxis().set_visible(False)\n",
    "  ax.get_yaxis().set_visible(False)"
   ]
  },
  {
   "cell_type": "code",
   "execution_count": 0,
   "metadata": {
    "colab": {
     "base_uri": "https://localhost:8080/",
     "height": 1714
    },
    "colab_type": "code",
    "id": "tOapt7QaM4U_",
    "outputId": "9d527334-fab7-4476-e4d3-f487b9b6bfab"
   },
   "outputs": [
    {
     "name": "stdout",
     "output_type": "stream",
     "text": [
      "Train on 120000 samples, validate on 10000 samples\n",
      "Epoch 1/50\n",
      "120000/120000 [==============================] - 30s 247us/step - loss: 0.0256 - acc: 0.0095 - val_loss: 0.0099 - val_acc: 0.0107\n",
      "Epoch 2/50\n",
      "120000/120000 [==============================] - 21s 174us/step - loss: 0.0081 - acc: 0.0122 - val_loss: 0.0066 - val_acc: 0.0125\n",
      "Epoch 3/50\n",
      "120000/120000 [==============================] - 19s 160us/step - loss: 0.0058 - acc: 0.0135 - val_loss: 0.0052 - val_acc: 0.0140\n",
      "Epoch 4/50\n",
      "120000/120000 [==============================] - 19s 161us/step - loss: 0.0047 - acc: 0.0138 - val_loss: 0.0045 - val_acc: 0.0132\n",
      "Epoch 5/50\n",
      "120000/120000 [==============================] - 19s 158us/step - loss: 0.0040 - acc: 0.0143 - val_loss: 0.0039 - val_acc: 0.0143\n",
      "Epoch 6/50\n",
      "120000/120000 [==============================] - 19s 162us/step - loss: 0.0036 - acc: 0.0147 - val_loss: 0.0036 - val_acc: 0.0162\n",
      "Epoch 7/50\n",
      "120000/120000 [==============================] - 20s 166us/step - loss: 0.0033 - acc: 0.0154 - val_loss: 0.0034 - val_acc: 0.0175\n",
      "Epoch 8/50\n",
      "120000/120000 [==============================] - 20s 164us/step - loss: 0.0030 - acc: 0.0164 - val_loss: 0.0031 - val_acc: 0.0190\n",
      "Epoch 9/50\n",
      "120000/120000 [==============================] - 19s 161us/step - loss: 0.0028 - acc: 0.0170 - val_loss: 0.0030 - val_acc: 0.0216\n",
      "Epoch 10/50\n",
      "120000/120000 [==============================] - 20s 170us/step - loss: 0.0027 - acc: 0.0174 - val_loss: 0.0029 - val_acc: 0.0203\n",
      "Epoch 11/50\n",
      "120000/120000 [==============================] - 20s 166us/step - loss: 0.0026 - acc: 0.0179 - val_loss: 0.0027 - val_acc: 0.0224\n",
      "Epoch 12/50\n",
      "120000/120000 [==============================] - 20s 163us/step - loss: 0.0025 - acc: 0.0183 - val_loss: 0.0027 - val_acc: 0.0237\n",
      "Epoch 13/50\n",
      "120000/120000 [==============================] - 20s 165us/step - loss: 0.0024 - acc: 0.0182 - val_loss: 0.0026 - val_acc: 0.0261\n",
      "Epoch 14/50\n",
      "120000/120000 [==============================] - 20s 167us/step - loss: 0.0023 - acc: 0.0187 - val_loss: 0.0026 - val_acc: 0.0237\n",
      "Epoch 15/50\n",
      "120000/120000 [==============================] - 20s 169us/step - loss: 0.0023 - acc: 0.0184 - val_loss: 0.0025 - val_acc: 0.0238\n",
      "Epoch 16/50\n",
      "120000/120000 [==============================] - 20s 168us/step - loss: 0.0023 - acc: 0.0191 - val_loss: 0.0025 - val_acc: 0.0226\n",
      "Epoch 17/50\n",
      "120000/120000 [==============================] - 20s 170us/step - loss: 0.0022 - acc: 0.0183 - val_loss: 0.0025 - val_acc: 0.0285\n",
      "Epoch 18/50\n",
      "120000/120000 [==============================] - 20s 167us/step - loss: 0.0022 - acc: 0.0188 - val_loss: 0.0024 - val_acc: 0.0248\n",
      "Epoch 19/50\n",
      "120000/120000 [==============================] - 19s 159us/step - loss: 0.0022 - acc: 0.0185 - val_loss: 0.0024 - val_acc: 0.0238\n",
      "Epoch 20/50\n",
      "120000/120000 [==============================] - 19s 157us/step - loss: 0.0022 - acc: 0.0186 - val_loss: 0.0024 - val_acc: 0.0251\n",
      "Epoch 21/50\n",
      "120000/120000 [==============================] - 20s 166us/step - loss: 0.0022 - acc: 0.0189 - val_loss: 0.0024 - val_acc: 0.0246\n",
      "Epoch 22/50\n",
      "120000/120000 [==============================] - 21s 171us/step - loss: 0.0022 - acc: 0.0188 - val_loss: 0.0024 - val_acc: 0.0256\n",
      "Epoch 23/50\n",
      "120000/120000 [==============================] - 20s 168us/step - loss: 0.0022 - acc: 0.0182 - val_loss: 0.0024 - val_acc: 0.0219\n",
      "Epoch 24/50\n",
      "120000/120000 [==============================] - 20s 170us/step - loss: 0.0022 - acc: 0.0187 - val_loss: 0.0024 - val_acc: 0.0250\n",
      "Epoch 25/50\n",
      "120000/120000 [==============================] - 20s 164us/step - loss: 0.0022 - acc: 0.0190 - val_loss: 0.0024 - val_acc: 0.0239\n",
      "Epoch 26/50\n",
      "120000/120000 [==============================] - 20s 166us/step - loss: 0.0022 - acc: 0.0189 - val_loss: 0.0024 - val_acc: 0.0252\n",
      "Epoch 27/50\n",
      "120000/120000 [==============================] - 20s 169us/step - loss: 0.0022 - acc: 0.0192 - val_loss: 0.0024 - val_acc: 0.0258\n",
      "Epoch 28/50\n",
      "120000/120000 [==============================] - 20s 168us/step - loss: 0.0022 - acc: 0.0184 - val_loss: 0.0024 - val_acc: 0.0237\n",
      "Epoch 29/50\n",
      "120000/120000 [==============================] - 21s 172us/step - loss: 0.0022 - acc: 0.0188 - val_loss: 0.0024 - val_acc: 0.0254\n",
      "Epoch 30/50\n",
      "120000/120000 [==============================] - 21s 172us/step - loss: 0.0022 - acc: 0.0191 - val_loss: 0.0024 - val_acc: 0.0274\n",
      "Epoch 31/50\n",
      "120000/120000 [==============================] - 20s 168us/step - loss: 0.0022 - acc: 0.0192 - val_loss: 0.0024 - val_acc: 0.0256\n",
      "Epoch 32/50\n",
      "120000/120000 [==============================] - 20s 169us/step - loss: 0.0022 - acc: 0.0193 - val_loss: 0.0024 - val_acc: 0.0260\n",
      "Epoch 33/50\n",
      "120000/120000 [==============================] - 20s 163us/step - loss: 0.0022 - acc: 0.0192 - val_loss: 0.0024 - val_acc: 0.0250\n",
      "Epoch 34/50\n",
      "120000/120000 [==============================] - 20s 165us/step - loss: 0.0022 - acc: 0.0193 - val_loss: 0.0024 - val_acc: 0.0238\n",
      "Epoch 35/50\n",
      "120000/120000 [==============================] - 19s 162us/step - loss: 0.0022 - acc: 0.0191 - val_loss: 0.0024 - val_acc: 0.0250\n",
      "Epoch 36/50\n",
      "120000/120000 [==============================] - 20s 164us/step - loss: 0.0022 - acc: 0.0190 - val_loss: 0.0024 - val_acc: 0.0265\n",
      "Epoch 37/50\n",
      "120000/120000 [==============================] - 20s 165us/step - loss: 0.0022 - acc: 0.0189 - val_loss: 0.0024 - val_acc: 0.0233\n",
      "Epoch 38/50\n",
      "120000/120000 [==============================] - 20s 169us/step - loss: 0.0021 - acc: 0.0189 - val_loss: 0.0024 - val_acc: 0.0262\n",
      "Epoch 39/50\n",
      "120000/120000 [==============================] - 19s 160us/step - loss: 0.0021 - acc: 0.0193 - val_loss: 0.0024 - val_acc: 0.0264\n",
      "Epoch 40/50\n",
      "120000/120000 [==============================] - 20s 164us/step - loss: 0.0021 - acc: 0.0188 - val_loss: 0.0024 - val_acc: 0.0236\n",
      "Epoch 41/50\n",
      "120000/120000 [==============================] - 20s 166us/step - loss: 0.0021 - acc: 0.0189 - val_loss: 0.0024 - val_acc: 0.0245\n",
      "Epoch 42/50\n",
      "120000/120000 [==============================] - 20s 165us/step - loss: 0.0021 - acc: 0.0191 - val_loss: 0.0024 - val_acc: 0.0250\n",
      "Epoch 43/50\n",
      "120000/120000 [==============================] - 20s 164us/step - loss: 0.0021 - acc: 0.0194 - val_loss: 0.0024 - val_acc: 0.0239\n",
      "Epoch 44/50\n",
      "120000/120000 [==============================] - 20s 164us/step - loss: 0.0021 - acc: 0.0193 - val_loss: 0.0024 - val_acc: 0.0268\n",
      "Epoch 45/50\n",
      "120000/120000 [==============================] - 20s 164us/step - loss: 0.0021 - acc: 0.0189 - val_loss: 0.0024 - val_acc: 0.0248\n",
      "Epoch 46/50\n",
      "120000/120000 [==============================] - 20s 163us/step - loss: 0.0021 - acc: 0.0192 - val_loss: 0.0024 - val_acc: 0.0260\n",
      "Epoch 47/50\n",
      "120000/120000 [==============================] - 20s 164us/step - loss: 0.0021 - acc: 0.0188 - val_loss: 0.0024 - val_acc: 0.0220\n",
      "Epoch 48/50\n",
      "120000/120000 [==============================] - 20s 164us/step - loss: 0.0021 - acc: 0.0191 - val_loss: 0.0024 - val_acc: 0.0240\n",
      "Epoch 49/50\n",
      "120000/120000 [==============================] - 19s 162us/step - loss: 0.0021 - acc: 0.0194 - val_loss: 0.0024 - val_acc: 0.0287\n",
      "Epoch 50/50\n",
      "120000/120000 [==============================] - 20s 165us/step - loss: 0.0021 - acc: 0.0197 - val_loss: 0.0024 - val_acc: 0.0224\n"
     ]
    }
   ],
   "source": [
    "#Implementing the Denoising Autoencoder Defense\n",
    "\n",
    "def autoencoder():\n",
    "    ae = Sequential()\n",
    "    ae.add(Dense(400, activation=None, kernel_initializer=\"normal\", input_dim=784))\n",
    "    ae.add(Dense(200, activation=None, kernel_initializer='normal'))\n",
    "    ae.add(Dense(100, activation=None, kernel_initializer='normal'))\n",
    "    ae.add(Dense(200, activation=None, kernel_initializer='normal'))\n",
    "    ae.add(Dense(400, activation=None, kernel_initializer='normal'))\n",
    "    ae.add(Dense(784, activation='sigmoid', kernel_initializer='normal'))\n",
    "    return ae\n",
    "\n",
    "#Create training data for DAE \n",
    "df_attack_data_train = df.generate_np(data_train, **df_params)\n",
    "data_total_train = np.concatenate([df_attack_data_train, data_train])\n",
    "\n",
    "#Create and train DAE graph\n",
    "\n",
    "dae_model = autoencoder()\n",
    "\n",
    "dae_model.compile(loss='mse',\n",
    "                 optimizer='adam',\n",
    "                 metrics=['accuracy'])\n",
    "\n",
    "dae_data = dae_model.fit(data_total_train, data_total_train, validation_data=(df_attack_data, df_attack_data), epochs=50, batch_size=256, shuffle=True)\n"
   ]
  },
  {
   "cell_type": "code",
   "execution_count": 0,
   "metadata": {
    "colab": {
     "base_uri": "https://localhost:8080/",
     "height": 50
    },
    "colab_type": "code",
    "id": "5CjKifVRNMMV",
    "outputId": "a711ba82-372f-403a-e06c-61e7a8727167"
   },
   "outputs": [
    {
     "name": "stdout",
     "output_type": "stream",
     "text": [
      "10000/10000 [==============================] - 1s 54us/step\n",
      "The accuracy of the model after removing Deep Fool perturbation is: 97.8%\n"
     ]
    }
   ],
   "source": [
    "#Using the defense\n",
    "\n",
    "#Use DAE to to remove adversarial perturbation \n",
    "reconstructed_images_dae=dae_model.predict(df_attack_data)\n",
    "\n",
    "#Evaluate accuracy of FGM samples after denoising \n",
    "\n",
    "scores = classifier_model.evaluate(reconstructed_images_dae,labels_test)\n",
    "print(\"The accuracy of the model after removing Deep Fool perturbation is: \"+ str(scores[1]*100) +\"%\")"
   ]
  },
  {
   "cell_type": "code",
   "execution_count": 0,
   "metadata": {
    "colab": {
     "base_uri": "https://localhost:8080/",
     "height": 83
    },
    "colab_type": "code",
    "id": "6NSAW0v3NSMB",
    "outputId": "8fa870e7-9668-4340-c5cc-69d63151e2cb"
   },
   "outputs": [
    {
     "name": "stdout",
     "output_type": "stream",
     "text": [
      "10 test denoised images\n"
     ]
    },
    {
     "data": {
      "image/png": "[encoded data removed]",
      "text/plain": [
       "<Figure size 432x288 with 10 Axes>"
      ]
     },
     "metadata": {
      "tags": []
     },
     "output_type": "display_data"
    }
   ],
   "source": [
    "#Show ten samples of adversarial samples after denoising\n",
    "\n",
    "print(\"10 test denoised images\")\n",
    "n=10\n",
    "plt.figure()\n",
    "for i in range(n):\n",
    "  ax=plt.subplot(2,10,i+1)\n",
    "  plt.imshow(reconstructed_images_dae[i].reshape((28,28)))\n",
    "  plt.gray()\n",
    "  ax.get_xaxis().set_visible(False)\n",
    "  ax.get_yaxis().set_visible(False)"
   ]
  }
 ],
 "metadata": {
  "colab": {
   "name": "Project_4_Student.ipynb",
   "provenance": []
  },
  "kernelspec": {
   "display_name": "Python 2",
   "name": "python2"
  }
 },
 "nbformat": 4,
 "nbformat_minor": 1
}
